{
 "cells": [
  {
   "cell_type": "code",
   "execution_count": 1,
   "id": "2c54ad58",
   "metadata": {},
   "outputs": [],
   "source": [
    "import pandas as pd\n",
    "import geopandas as gp\n",
    "import numpy as np \n",
    "import os\n",
    "import fiona\n",
    "from statistics import mean, median\n",
    "import string\n",
    "import sys\n",
    "\n",
    "import glob"
   ]
  },
  {
   "cell_type": "markdown",
   "id": "267d00f2",
   "metadata": {},
   "source": [
    "# Precinct Shapefile\n",
    "---"
   ]
  },
  {
   "cell_type": "markdown",
   "id": "88525097",
   "metadata": {},
   "source": [
    "## VEST's Documentation File\n",
    "\n",
    "Election results from Wyoming Secretary of State (https://soswy.state.wy.us/Elections/ElectionResults.aspx)\n",
    "Precinct shapefile primarily from the U.S. Census Bureau's 2020 Redistricting Data Program final release. The Fremont County shapefile was provided by the Fremont County Assessor.\n",
    " \n",
    "The following modifications were made to recreate the 2020 precinct boundaries.\n",
    "\n",
    "Albany: Consolidate 8 county VTDs into 5 precincts, 18 city VTDs into 8 precincts \\\n",
    "Campbell: Align 1-27/24-1 with Gillette municipal boundary \\\n",
    "Carbon: Remove district splits for 1-2, 5-1, 6-1, 7-1, 11-2, 12-1, 13-1 \\\n",
    "Goshen: Align VTDs with legislative districts and 2012 redistricting map \\\n",
    "Lincoln: Merge Kemmerer 01-01/01-02/01-03 \\\n",
    "Platte: Merge Y-O Ranch into Wheatland Rural \\\n",
    "Sheridan: Remove district splits for 01-01, 02-01, 02-03, 03-03, 11-03 \\\n",
    "Sweetwater: Align wards and precincts countywide with 2012 legislative redistricting \\\n",
    "Uinta: Remove 02-01 district split; Split 01-03/01-04; Merge 04-01/04-03 \\\n",
    "Weston: Adjust 5-2/5-3 boundary to match 2012 realignment\n",
    "\n",
    "G20PRERTRU - Donald J. Trump (Republican Party) \\\n",
    "G20PREDBID - Joseph R. Biden (Democratic Party) \\\n",
    "G20PRELJOR - Jo Jorgensen (Libertarian Party) \\\n",
    "G20PREIPIE - Brock Pierce (Independent) \\\n",
    "G20PREOWRI - Write-in Votes\n",
    "\n",
    "G20USSRLUM - Cynthia M. Lummis (Republican Party) \\\n",
    "G20USSDDAV - Merav Ben David (Democratic Party) \\\n",
    "G20USSOWRI - Write-in Votes\n",
    "\n",
    "G20HALRCHE - Liz Cheney (Republican Party) \\\n",
    "G20HALDBUL - Lynnette Grey Bull (Democratic Party) \\\n",
    "G20HALLBRU - Richard Brubaker (Libertarian Party) \\\n",
    "G20HALCHAG - Jeff Haggit (Constitution Party) \\\n",
    "G20HALOWRI - Write-in Votes"
   ]
  },
  {
   "cell_type": "markdown",
   "id": "381e9798",
   "metadata": {},
   "source": [
    "### Load VEST's Final File"
   ]
  },
  {
   "cell_type": "code",
   "execution_count": 2,
   "id": "319e57b2",
   "metadata": {},
   "outputs": [],
   "source": [
    "vest_shp = gp.read_file(\"./raw_from_source/VEST/wy_2020/wy_2020.shp\")"
   ]
  },
  {
   "cell_type": "code",
   "execution_count": 3,
   "id": "674c87c1",
   "metadata": {},
   "outputs": [
    {
     "data": {
      "text/plain": [
       "(481, 18)"
      ]
     },
     "execution_count": 3,
     "metadata": {},
     "output_type": "execute_result"
    }
   ],
   "source": [
    "vest_shp.shape"
   ]
  },
  {
   "cell_type": "code",
   "execution_count": 4,
   "id": "321a5c95",
   "metadata": {
    "scrolled": true
   },
   "outputs": [
    {
     "data": {
      "text/html": [
       "<div>\n",
       "<style scoped>\n",
       "    .dataframe tbody tr th:only-of-type {\n",
       "        vertical-align: middle;\n",
       "    }\n",
       "\n",
       "    .dataframe tbody tr th {\n",
       "        vertical-align: top;\n",
       "    }\n",
       "\n",
       "    .dataframe thead th {\n",
       "        text-align: right;\n",
       "    }\n",
       "</style>\n",
       "<table border=\"1\" class=\"dataframe\">\n",
       "  <thead>\n",
       "    <tr style=\"text-align: right;\">\n",
       "      <th></th>\n",
       "      <th>STATEFP20</th>\n",
       "      <th>COUNTYFP20</th>\n",
       "      <th>VTDST20</th>\n",
       "      <th>NAME20</th>\n",
       "      <th>G20PRERTRU</th>\n",
       "      <th>G20PREDBID</th>\n",
       "      <th>G20PRELJOR</th>\n",
       "      <th>G20PREIPIE</th>\n",
       "      <th>G20PREOWRI</th>\n",
       "      <th>G20USSRLUM</th>\n",
       "      <th>G20USSDDAV</th>\n",
       "      <th>G20USSOWRI</th>\n",
       "      <th>G20HALRCHE</th>\n",
       "      <th>G20HALDBUL</th>\n",
       "      <th>G20HALLBRU</th>\n",
       "      <th>G20HALCHAG</th>\n",
       "      <th>G20HALOWRI</th>\n",
       "      <th>geometry</th>\n",
       "    </tr>\n",
       "  </thead>\n",
       "  <tbody>\n",
       "    <tr>\n",
       "      <th>0</th>\n",
       "      <td>56</td>\n",
       "      <td>045</td>\n",
       "      <td>000101</td>\n",
       "      <td>NEWCASTLE RURAL OUTSIDE</td>\n",
       "      <td>588</td>\n",
       "      <td>53</td>\n",
       "      <td>4</td>\n",
       "      <td>6</td>\n",
       "      <td>0</td>\n",
       "      <td>570</td>\n",
       "      <td>65</td>\n",
       "      <td>0</td>\n",
       "      <td>517</td>\n",
       "      <td>65</td>\n",
       "      <td>14</td>\n",
       "      <td>30</td>\n",
       "      <td>1</td>\n",
       "      <td>MULTIPOLYGON (((-104.22316 43.85669, -104.2231...</td>\n",
       "    </tr>\n",
       "    <tr>\n",
       "      <th>1</th>\n",
       "      <td>56</td>\n",
       "      <td>045</td>\n",
       "      <td>000102</td>\n",
       "      <td>Northwest</td>\n",
       "      <td>429</td>\n",
       "      <td>62</td>\n",
       "      <td>3</td>\n",
       "      <td>3</td>\n",
       "      <td>1</td>\n",
       "      <td>430</td>\n",
       "      <td>59</td>\n",
       "      <td>1</td>\n",
       "      <td>403</td>\n",
       "      <td>58</td>\n",
       "      <td>3</td>\n",
       "      <td>23</td>\n",
       "      <td>0</td>\n",
       "      <td>POLYGON ((-104.55704 43.85906, -104.55691 43.8...</td>\n",
       "    </tr>\n",
       "    <tr>\n",
       "      <th>2</th>\n",
       "      <td>56</td>\n",
       "      <td>045</td>\n",
       "      <td>000301</td>\n",
       "      <td>UPTON OUTSIDE</td>\n",
       "      <td>288</td>\n",
       "      <td>10</td>\n",
       "      <td>2</td>\n",
       "      <td>0</td>\n",
       "      <td>0</td>\n",
       "      <td>268</td>\n",
       "      <td>18</td>\n",
       "      <td>1</td>\n",
       "      <td>246</td>\n",
       "      <td>20</td>\n",
       "      <td>2</td>\n",
       "      <td>12</td>\n",
       "      <td>0</td>\n",
       "      <td>POLYGON ((-105.08141 43.82696, -105.08139 43.8...</td>\n",
       "    </tr>\n",
       "    <tr>\n",
       "      <th>3</th>\n",
       "      <td>56</td>\n",
       "      <td>045</td>\n",
       "      <td>000201</td>\n",
       "      <td>OSAGE</td>\n",
       "      <td>151</td>\n",
       "      <td>7</td>\n",
       "      <td>1</td>\n",
       "      <td>1</td>\n",
       "      <td>0</td>\n",
       "      <td>134</td>\n",
       "      <td>18</td>\n",
       "      <td>2</td>\n",
       "      <td>126</td>\n",
       "      <td>11</td>\n",
       "      <td>4</td>\n",
       "      <td>9</td>\n",
       "      <td>2</td>\n",
       "      <td>POLYGON ((-104.59766 43.85787, -104.59762 43.8...</td>\n",
       "    </tr>\n",
       "    <tr>\n",
       "      <th>4</th>\n",
       "      <td>56</td>\n",
       "      <td>045</td>\n",
       "      <td>000501</td>\n",
       "      <td>NEWCASTLE EAST</td>\n",
       "      <td>390</td>\n",
       "      <td>70</td>\n",
       "      <td>11</td>\n",
       "      <td>6</td>\n",
       "      <td>3</td>\n",
       "      <td>397</td>\n",
       "      <td>71</td>\n",
       "      <td>0</td>\n",
       "      <td>360</td>\n",
       "      <td>63</td>\n",
       "      <td>13</td>\n",
       "      <td>30</td>\n",
       "      <td>0</td>\n",
       "      <td>POLYGON ((-104.20615 43.85409, -104.20606 43.8...</td>\n",
       "    </tr>\n",
       "  </tbody>\n",
       "</table>\n",
       "</div>"
      ],
      "text/plain": [
       "  STATEFP20 COUNTYFP20 VTDST20                   NAME20  G20PRERTRU  \\\n",
       "0        56        045  000101  NEWCASTLE RURAL OUTSIDE         588   \n",
       "1        56        045  000102                Northwest         429   \n",
       "2        56        045  000301            UPTON OUTSIDE         288   \n",
       "3        56        045  000201                    OSAGE         151   \n",
       "4        56        045  000501           NEWCASTLE EAST         390   \n",
       "\n",
       "   G20PREDBID  G20PRELJOR  G20PREIPIE  G20PREOWRI  G20USSRLUM  G20USSDDAV  \\\n",
       "0          53           4           6           0         570          65   \n",
       "1          62           3           3           1         430          59   \n",
       "2          10           2           0           0         268          18   \n",
       "3           7           1           1           0         134          18   \n",
       "4          70          11           6           3         397          71   \n",
       "\n",
       "   G20USSOWRI  G20HALRCHE  G20HALDBUL  G20HALLBRU  G20HALCHAG  G20HALOWRI  \\\n",
       "0           0         517          65          14          30           1   \n",
       "1           1         403          58           3          23           0   \n",
       "2           1         246          20           2          12           0   \n",
       "3           2         126          11           4           9           2   \n",
       "4           0         360          63          13          30           0   \n",
       "\n",
       "                                            geometry  \n",
       "0  MULTIPOLYGON (((-104.22316 43.85669, -104.2231...  \n",
       "1  POLYGON ((-104.55704 43.85906, -104.55691 43.8...  \n",
       "2  POLYGON ((-105.08141 43.82696, -105.08139 43.8...  \n",
       "3  POLYGON ((-104.59766 43.85787, -104.59762 43.8...  \n",
       "4  POLYGON ((-104.20615 43.85409, -104.20606 43.8...  "
      ]
     },
     "execution_count": 4,
     "metadata": {},
     "output_type": "execute_result"
    }
   ],
   "source": [
    "vest_shp.head()"
   ]
  },
  {
   "cell_type": "code",
   "execution_count": 5,
   "id": "9b46eb2a",
   "metadata": {},
   "outputs": [
    {
     "data": {
      "text/plain": [
       "<AxesSubplot:>"
      ]
     },
     "execution_count": 5,
     "metadata": {},
     "output_type": "execute_result"
    },
    {
     "data": {
      "image/png": "[encoded data removed]",
      "text/plain": [
       "<Figure size 432x288 with 1 Axes>"
      ]
     },
     "metadata": {
      "needs_background": "light"
     },
     "output_type": "display_data"
    }
   ],
   "source": [
    "vest_shp.boundary.plot()"
   ]
  },
  {
   "cell_type": "code",
   "execution_count": 6,
   "id": "a2a75a5d",
   "metadata": {},
   "outputs": [
    {
     "data": {
      "text/plain": [
       "Index(['STATEFP20', 'COUNTYFP20', 'VTDST20', 'NAME20', 'G20PRERTRU',\n",
       "       'G20PREDBID', 'G20PRELJOR', 'G20PREIPIE', 'G20PREOWRI', 'G20USSRLUM',\n",
       "       'G20USSDDAV', 'G20USSOWRI', 'G20HALRCHE', 'G20HALDBUL', 'G20HALLBRU',\n",
       "       'G20HALCHAG', 'G20HALOWRI', 'geometry'],\n",
       "      dtype='object')"
      ]
     },
     "execution_count": 6,
     "metadata": {},
     "output_type": "execute_result"
    }
   ],
   "source": [
    "vest_shp.columns"
   ]
  },
  {
   "cell_type": "markdown",
   "id": "469d14fb",
   "metadata": {},
   "source": [
    "# Election Results"
   ]
  },
  {
   "cell_type": "markdown",
   "id": "1a2aeab6",
   "metadata": {},
   "source": [
    "## Load Files\n",
    "\n",
    "The SOS directed to this link for election results for the 2020 general: https://soswy.state.wy.us/Elections/ElectionResults.aspx\n"
   ]
  },
  {
   "cell_type": "code",
   "execution_count": null,
   "id": "f0e853e0",
   "metadata": {},
   "outputs": [],
   "source": []
  },
  {
   "cell_type": "code",
   "execution_count": null,
   "id": "4026978e",
   "metadata": {},
   "outputs": [],
   "source": []
  },
  {
   "cell_type": "code",
   "execution_count": null,
   "id": "fdc8b550",
   "metadata": {},
   "outputs": [],
   "source": []
  }
 ],
 "metadata": {
  "kernelspec": {
   "display_name": "Python 3 (ipykernel)",
   "language": "python",
   "name": "python3"
  },
  "language_info": {
   "codemirror_mode": {
    "name": "ipython",
    "version": 3
   },
   "file_extension": ".py",
   "mimetype": "text/x-python",
   "name": "python",
   "nbconvert_exporter": "python",
   "pygments_lexer": "ipython3",
   "version": "3.9.6"
  }
 },
 "nbformat": 4,
 "nbformat_minor": 5
}
