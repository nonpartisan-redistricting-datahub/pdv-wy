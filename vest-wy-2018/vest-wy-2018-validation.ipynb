{
 "cells": [
  {
   "cell_type": "code",
   "execution_count": 1,
   "id": "2c54ad58",
   "metadata": {},
   "outputs": [],
   "source": [
    "import pandas as pd\n",
    "import geopandas as gp\n",
    "import numpy as np \n",
    "import os\n",
    "import fiona\n",
    "from statistics import mean, median\n",
    "import string\n",
    "import sys\n",
    "\n",
    "import glob"
   ]
  },
  {
   "cell_type": "markdown",
   "id": "267d00f2",
   "metadata": {},
   "source": [
    "# Precinct Shapefile\n",
    "---"
   ]
  },
  {
   "cell_type": "markdown",
   "id": "88525097",
   "metadata": {},
   "source": [
    "## VEST's Documentation File\n",
    "\n",
    "Election results from Wyoming Secretary of State (https://soswy.state.wy.us/Elections/ElectionResults.aspx)\n",
    "Precinct shapefile primarily from the U.S. Census Bureau's 2020 Redistricting Data Program final release. The Fremont County shapefile was provided by the Fremont County Assessor.\n",
    " \n",
    "The following modifications were made to recreate the 2018 precinct boundaries.\n",
    "\n",
    "Albany: Consolidate 8 county VTDs into 5 precincts, 18 city VTDs into 8 precincts \\ \n",
    "Campbell: Align 1-27/24-1 with Gillette municipal boundary \\\n",
    "Carbon: Remove district splits for 1-2, 5-1, 6-1, 7-1, 11-2, 12-1, 13-1 \\\n",
    "Goshen: Align VTDs with legislative districts and 2012 redistricting map \\\n",
    "Laramie: Adjust 03-06, 03-07 to reverse Cheyenne annexations \\\n",
    "Platte: Merge Y-O Ranch into Wheatland Rural \\\n",
    "Sheridan: Remove district splits for 01-01, 02-01, 02-03, 03-03, 11-03 \\\n",
    "Sweetwater: Align wards and precincts countywide with 2012 legislative redistricting \\\n",
    "Uinta: Remove 02-01 district split; Split 01-03/01-04; Merge 04-01/04-03 \\\n",
    "Weston: Adjust 5-2/5-3 boundary to match 2012 realignment\n",
    "\n",
    "G18USSRBAR - John Barrasso (Republican Party) \\\n",
    "G18USSDTRA - Gary Trauner (Democratic Party) \\\n",
    "G18USSLPOR - Joseph Porambo (Libertarian Party) \\\n",
    "G18USSOWRI - Write-in Votes\n",
    "\n",
    "G18HALRCHE - Liz Cheney (Republican Party) \\\n",
    "G18HALDHUN - Greg Hunter (Democratic Party) \\\n",
    "G18HALLBRU - Richard Brubaker (Libertarian Party) \\\n",
    "G18HALCCUM - Daniel Clyde Cummings (Constitution Party) \\\n",
    "G18HALOWRI - Write-in Votes\n",
    "\n",
    "G18GOVRGOR - Mark Gordon (Republican Party) \\\n",
    "G18GOVDTHR - Mary A. Throne (Democratic Party) \\\n",
    "G18GOVLSTR - Lawrence Gerard Struempf (Libertarian Party) \\\n",
    "G18GOVCRAM - Rex \"T-Rex\" Rammell (Constitution Party) \\\n",
    "G18GOVOWRI - Write-in Votes\n",
    "\n",
    "G18SOSRBUC - Edward Buchanan (Republican Party) \\\n",
    "G18SOSDBYR - James W. Byrd (Democratic Party) \\\n",
    "G18SOSLCAR - Kit Carson III (Libertarian Party) \\\n",
    "G18SOSOWRI - Write-in Votes\n",
    "\n",
    "G18AUDRRAC - Kristi Racines (Republican Party) \\\n",
    "G18AUDDDOC - Jeff Dockter (Democratic Party) \\\n",
    "G18AUDOWRI - Write-in Votes\n",
    "\n",
    "G18TRERMEI - Curt Meier (Republican Party) \\\n",
    "G18TREDLOW - Chris Lowry (Democratic Party) \\\n",
    "G18TREOWRI - Write-in Votes\n",
    "\n",
    "G18SPIRBAL - Jillian Balow (Republican Party) \\\n",
    "G18SPIOWRI - Write-in Votes"
   ]
  },
  {
   "cell_type": "markdown",
   "id": "381e9798",
   "metadata": {},
   "source": [
    "### Load VEST's Final File"
   ]
  },
  {
   "cell_type": "code",
   "execution_count": 2,
   "id": "319e57b2",
   "metadata": {},
   "outputs": [],
   "source": [
    "vest_shp = gp.read_file(\"./raw_from_source/VEST/wy_2018/wy_2018.shp\")"
   ]
  },
  {
   "cell_type": "code",
   "execution_count": 3,
   "id": "674c87c1",
   "metadata": {},
   "outputs": [
    {
     "data": {
      "text/plain": [
       "(483, 31)"
      ]
     },
     "execution_count": 3,
     "metadata": {},
     "output_type": "execute_result"
    }
   ],
   "source": [
    "vest_shp.shape"
   ]
  },
  {
   "cell_type": "code",
   "execution_count": 4,
   "id": "321a5c95",
   "metadata": {
    "scrolled": true
   },
   "outputs": [
    {
     "data": {
      "text/html": [
       "<div>\n",
       "<style scoped>\n",
       "    .dataframe tbody tr th:only-of-type {\n",
       "        vertical-align: middle;\n",
       "    }\n",
       "\n",
       "    .dataframe tbody tr th {\n",
       "        vertical-align: top;\n",
       "    }\n",
       "\n",
       "    .dataframe thead th {\n",
       "        text-align: right;\n",
       "    }\n",
       "</style>\n",
       "<table border=\"1\" class=\"dataframe\">\n",
       "  <thead>\n",
       "    <tr style=\"text-align: right;\">\n",
       "      <th></th>\n",
       "      <th>STATEFP20</th>\n",
       "      <th>COUNTYFP20</th>\n",
       "      <th>VTDST20</th>\n",
       "      <th>NAME20</th>\n",
       "      <th>G18USSRBAR</th>\n",
       "      <th>G18USSDTRA</th>\n",
       "      <th>G18USSLPOR</th>\n",
       "      <th>G18USSOWRI</th>\n",
       "      <th>G18HALRCHE</th>\n",
       "      <th>G18HALDHUN</th>\n",
       "      <th>...</th>\n",
       "      <th>G18SOSOWRI</th>\n",
       "      <th>G18AUDRRAC</th>\n",
       "      <th>G18AUDDDOC</th>\n",
       "      <th>G18AUDOWRI</th>\n",
       "      <th>G18TRERMEI</th>\n",
       "      <th>G18TREDLOW</th>\n",
       "      <th>G18TREOWRI</th>\n",
       "      <th>G18SPIRBAL</th>\n",
       "      <th>G18SPIOWRI</th>\n",
       "      <th>geometry</th>\n",
       "    </tr>\n",
       "  </thead>\n",
       "  <tbody>\n",
       "    <tr>\n",
       "      <th>0</th>\n",
       "      <td>56</td>\n",
       "      <td>045</td>\n",
       "      <td>000101</td>\n",
       "      <td>NEWCASTLE RURAL OUTSIDE</td>\n",
       "      <td>428</td>\n",
       "      <td>64</td>\n",
       "      <td>15</td>\n",
       "      <td>2</td>\n",
       "      <td>398</td>\n",
       "      <td>73</td>\n",
       "      <td>...</td>\n",
       "      <td>0</td>\n",
       "      <td>439</td>\n",
       "      <td>63</td>\n",
       "      <td>0</td>\n",
       "      <td>447</td>\n",
       "      <td>60</td>\n",
       "      <td>0</td>\n",
       "      <td>462</td>\n",
       "      <td>4</td>\n",
       "      <td>MULTIPOLYGON (((-104.22316 43.85669, -104.2231...</td>\n",
       "    </tr>\n",
       "    <tr>\n",
       "      <th>1</th>\n",
       "      <td>56</td>\n",
       "      <td>045</td>\n",
       "      <td>000102</td>\n",
       "      <td>Northwest</td>\n",
       "      <td>327</td>\n",
       "      <td>48</td>\n",
       "      <td>13</td>\n",
       "      <td>0</td>\n",
       "      <td>311</td>\n",
       "      <td>51</td>\n",
       "      <td>...</td>\n",
       "      <td>0</td>\n",
       "      <td>332</td>\n",
       "      <td>44</td>\n",
       "      <td>0</td>\n",
       "      <td>323</td>\n",
       "      <td>54</td>\n",
       "      <td>0</td>\n",
       "      <td>335</td>\n",
       "      <td>6</td>\n",
       "      <td>POLYGON ((-104.55704 43.85906, -104.55691 43.8...</td>\n",
       "    </tr>\n",
       "    <tr>\n",
       "      <th>2</th>\n",
       "      <td>56</td>\n",
       "      <td>045</td>\n",
       "      <td>000301</td>\n",
       "      <td>UPTON OUTSIDE</td>\n",
       "      <td>201</td>\n",
       "      <td>13</td>\n",
       "      <td>5</td>\n",
       "      <td>0</td>\n",
       "      <td>195</td>\n",
       "      <td>13</td>\n",
       "      <td>...</td>\n",
       "      <td>0</td>\n",
       "      <td>197</td>\n",
       "      <td>13</td>\n",
       "      <td>0</td>\n",
       "      <td>194</td>\n",
       "      <td>17</td>\n",
       "      <td>0</td>\n",
       "      <td>194</td>\n",
       "      <td>1</td>\n",
       "      <td>POLYGON ((-105.08141 43.82696, -105.08139 43.8...</td>\n",
       "    </tr>\n",
       "    <tr>\n",
       "      <th>3</th>\n",
       "      <td>56</td>\n",
       "      <td>045</td>\n",
       "      <td>000201</td>\n",
       "      <td>OSAGE</td>\n",
       "      <td>118</td>\n",
       "      <td>10</td>\n",
       "      <td>9</td>\n",
       "      <td>0</td>\n",
       "      <td>108</td>\n",
       "      <td>8</td>\n",
       "      <td>...</td>\n",
       "      <td>0</td>\n",
       "      <td>119</td>\n",
       "      <td>13</td>\n",
       "      <td>0</td>\n",
       "      <td>119</td>\n",
       "      <td>14</td>\n",
       "      <td>0</td>\n",
       "      <td>121</td>\n",
       "      <td>2</td>\n",
       "      <td>POLYGON ((-104.59766 43.85787, -104.59762 43.8...</td>\n",
       "    </tr>\n",
       "    <tr>\n",
       "      <th>4</th>\n",
       "      <td>56</td>\n",
       "      <td>045</td>\n",
       "      <td>000501</td>\n",
       "      <td>NEWCASTLE EAST</td>\n",
       "      <td>292</td>\n",
       "      <td>51</td>\n",
       "      <td>15</td>\n",
       "      <td>1</td>\n",
       "      <td>259</td>\n",
       "      <td>68</td>\n",
       "      <td>...</td>\n",
       "      <td>0</td>\n",
       "      <td>304</td>\n",
       "      <td>45</td>\n",
       "      <td>0</td>\n",
       "      <td>295</td>\n",
       "      <td>51</td>\n",
       "      <td>0</td>\n",
       "      <td>310</td>\n",
       "      <td>4</td>\n",
       "      <td>POLYGON ((-104.20615 43.85409, -104.20606 43.8...</td>\n",
       "    </tr>\n",
       "  </tbody>\n",
       "</table>\n",
       "<p>5 rows × 31 columns</p>\n",
       "</div>"
      ],
      "text/plain": [
       "  STATEFP20 COUNTYFP20 VTDST20                   NAME20  G18USSRBAR  \\\n",
       "0        56        045  000101  NEWCASTLE RURAL OUTSIDE         428   \n",
       "1        56        045  000102                Northwest         327   \n",
       "2        56        045  000301            UPTON OUTSIDE         201   \n",
       "3        56        045  000201                    OSAGE         118   \n",
       "4        56        045  000501           NEWCASTLE EAST         292   \n",
       "\n",
       "   G18USSDTRA  G18USSLPOR  G18USSOWRI  G18HALRCHE  G18HALDHUN  ...  \\\n",
       "0          64          15           2         398          73  ...   \n",
       "1          48          13           0         311          51  ...   \n",
       "2          13           5           0         195          13  ...   \n",
       "3          10           9           0         108           8  ...   \n",
       "4          51          15           1         259          68  ...   \n",
       "\n",
       "   G18SOSOWRI  G18AUDRRAC  G18AUDDDOC  G18AUDOWRI  G18TRERMEI  G18TREDLOW  \\\n",
       "0           0         439          63           0         447          60   \n",
       "1           0         332          44           0         323          54   \n",
       "2           0         197          13           0         194          17   \n",
       "3           0         119          13           0         119          14   \n",
       "4           0         304          45           0         295          51   \n",
       "\n",
       "   G18TREOWRI  G18SPIRBAL  G18SPIOWRI  \\\n",
       "0           0         462           4   \n",
       "1           0         335           6   \n",
       "2           0         194           1   \n",
       "3           0         121           2   \n",
       "4           0         310           4   \n",
       "\n",
       "                                            geometry  \n",
       "0  MULTIPOLYGON (((-104.22316 43.85669, -104.2231...  \n",
       "1  POLYGON ((-104.55704 43.85906, -104.55691 43.8...  \n",
       "2  POLYGON ((-105.08141 43.82696, -105.08139 43.8...  \n",
       "3  POLYGON ((-104.59766 43.85787, -104.59762 43.8...  \n",
       "4  POLYGON ((-104.20615 43.85409, -104.20606 43.8...  \n",
       "\n",
       "[5 rows x 31 columns]"
      ]
     },
     "execution_count": 4,
     "metadata": {},
     "output_type": "execute_result"
    }
   ],
   "source": [
    "vest_shp.head()"
   ]
  },
  {
   "cell_type": "code",
   "execution_count": 5,
   "id": "9b46eb2a",
   "metadata": {},
   "outputs": [
    {
     "data": {
      "text/plain": [
       "<AxesSubplot:>"
      ]
     },
     "execution_count": 5,
     "metadata": {},
     "output_type": "execute_result"
    },
    {
     "data": {
      "image/png": "[encoded data removed]",
      "text/plain": [
       "<Figure size 432x288 with 1 Axes>"
      ]
     },
     "metadata": {
      "needs_background": "light"
     },
     "output_type": "display_data"
    }
   ],
   "source": [
    "vest_shp.boundary.plot()"
   ]
  },
  {
   "cell_type": "code",
   "execution_count": 6,
   "id": "a2a75a5d",
   "metadata": {},
   "outputs": [
    {
     "data": {
      "text/plain": [
       "Index(['STATEFP20', 'COUNTYFP20', 'VTDST20', 'NAME20', 'G18USSRBAR',\n",
       "       'G18USSDTRA', 'G18USSLPOR', 'G18USSOWRI', 'G18HALRCHE', 'G18HALDHUN',\n",
       "       'G18HALLBRU', 'G18HALCCUM', 'G18HALOWRI', 'G18GOVRGOR', 'G18GOVDTHR',\n",
       "       'G18GOVLSTR', 'G18GOVCRAM', 'G18GOVOWRI', 'G18SOSRBUC', 'G18SOSDBYR',\n",
       "       'G18SOSLCAR', 'G18SOSOWRI', 'G18AUDRRAC', 'G18AUDDDOC', 'G18AUDOWRI',\n",
       "       'G18TRERMEI', 'G18TREDLOW', 'G18TREOWRI', 'G18SPIRBAL', 'G18SPIOWRI',\n",
       "       'geometry'],\n",
       "      dtype='object')"
      ]
     },
     "execution_count": 6,
     "metadata": {},
     "output_type": "execute_result"
    }
   ],
   "source": [
    "vest_shp.columns"
   ]
  },
  {
   "cell_type": "markdown",
   "id": "469d14fb",
   "metadata": {},
   "source": [
    "# Election Results"
   ]
  },
  {
   "cell_type": "markdown",
   "id": "1a2aeab6",
   "metadata": {},
   "source": [
    "## Load Files\n",
    "\n",
    "The SOS directed to this link for election results for the 2018 general: https://soswy.state.wy.us/Elections/ElectionResults.aspx\n"
   ]
  },
  {
   "cell_type": "code",
   "execution_count": null,
   "id": "f0e853e0",
   "metadata": {},
   "outputs": [],
   "source": []
  },
  {
   "cell_type": "code",
   "execution_count": null,
   "id": "4026978e",
   "metadata": {},
   "outputs": [],
   "source": []
  },
  {
   "cell_type": "code",
   "execution_count": null,
   "id": "fdc8b550",
   "metadata": {},
   "outputs": [],
   "source": []
  }
 ],
 "metadata": {
  "kernelspec": {
   "display_name": "Python 3 (ipykernel)",
   "language": "python",
   "name": "python3"
  },
  "language_info": {
   "codemirror_mode": {
    "name": "ipython",
    "version": 3
   },
   "file_extension": ".py",
   "mimetype": "text/x-python",
   "name": "python",
   "nbconvert_exporter": "python",
   "pygments_lexer": "ipython3",
   "version": "3.9.6"
  }
 },
 "nbformat": 4,
 "nbformat_minor": 5
}
